{
 "cells": [
  {
   "cell_type": "markdown",
   "metadata": {},
   "source": [
    "# f string\n",
    "\n",
    "5/8\n",
    "\n",
    "## Intro\n",
    "\n",
    "I used to use .format to format a string. Recently, I knew fstring expression in Python 3.6+, and found it really clear and helpful. I decided to change my formatted string to f-string. This tutorial walks through all the formatted string in Python and showcase how to use f-string to make your life easier! Let's get started. \n",
    "\n",
    "[Reference](https://realpython.com/python-f-strings/)\n",
    "\n",
    "## Old-school format: %-formatting"
   ]
  },
  {
   "cell_type": "code",
   "execution_count": 2,
   "metadata": {},
   "outputs": [
    {
     "name": "stdout",
     "output_type": "stream",
     "text": [
      "Hello. I am Jes and 24 years old\n"
     ]
    }
   ],
   "source": [
    "#example\n",
    "name = \"Jes\"\n",
    "age = 24\n",
    "print(\"Hello. I am %s and %s years old\" %(name, age))"
   ]
  },
  {
   "cell_type": "markdown",
   "metadata": {},
   "source": [
    "## str.format()\n",
    "\n",
    "I used to use this option a lot and kinda liked it."
   ]
  },
  {
   "cell_type": "code",
   "execution_count": 4,
   "metadata": {},
   "outputs": [
    {
     "name": "stdout",
     "output_type": "stream",
     "text": [
      "Hello. I am Jes and 24 years old\n",
      "Hello again. I am Jes and 24 years old\n"
     ]
    }
   ],
   "source": [
    "# the same example\n",
    "name = \"Jes\"\n",
    "age = 24\n",
    "print(\"Hello. I am {} and {} years old\".format(name, age))\n",
    "\n",
    "# a tricky one with dictionary\n",
    "me = {\"name\":\"Jes\", \"age\":24}\n",
    "print(\"Hello again. I am {name} and {age} years old\".format(**me))"
   ]
  },
  {
   "cell_type": "markdown",
   "metadata": {},
   "source": [
    "### Why I don't like .format sometimes\n",
    "\n",
    "It allows the item matched in the end of the sentence. I have to make sure I put the right variable in the right order. In a long string, I have to switch back and forth to make sure I do the right thing. It's a little annoying. And also .format just occupies some space.\n",
    "\n",
    "Time for learning f-strings.\n",
    "\n",
    "## f-strings\n",
    "\n",
    "- AKA: formatted string literals\n",
    "- definition: string literals that have an f at the beginning and curly braces containing expressions that will be replaced with their values."
   ]
  },
  {
   "cell_type": "code",
   "execution_count": 5,
   "metadata": {},
   "outputs": [
    {
     "name": "stdout",
     "output_type": "stream",
     "text": [
      "Hello. I am Jes and 24 years old\n"
     ]
    }
   ],
   "source": [
    "# the same example\n",
    "name = \"Jes\"\n",
    "age = 24\n",
    "print(f\"Hello. I am {name} and {age} years old\")"
   ]
  },
  {
   "cell_type": "markdown",
   "metadata": {},
   "source": [
    "See, you know exactly where to put name and age in the string.\n",
    "\n",
    "### More examples"
   ]
  },
  {
   "cell_type": "code",
   "execution_count": 19,
   "metadata": {},
   "outputs": [
    {
     "name": "stdout",
     "output_type": "stream",
     "text": [
      "Hello. I am JES and 25 years old\n",
      "Hello. I am  JES. I am 25 years old. How are you doing?\n",
      "Hello. \n",
      "I am  JES. \n",
      "I am 25 years old. \n",
      "How are you doing?\n",
      "Hello. \n",
      "I am  JES.\n",
      "I am 25 years old.\n",
      "How are you doing?\n",
      "\n"
     ]
    }
   ],
   "source": [
    "# you can have more complex expression inside curly\n",
    "print(f\"Hello. I am {name.upper()} and {age+1} years old\")\n",
    "\n",
    "# multiline. It's useful when your string is long!\n",
    "multiline = (f\"Hello. \"\n",
    "             f\"I am  {name.upper()}. \"\n",
    "             f\"I am {age+1} years old. \"\n",
    "             f\"How are you doing?\")\n",
    "print(multiline)\n",
    "# multiline. If you want to have \\n\n",
    "multiline2 = (f\"Hello. \\n\"\n",
    "             f\"I am  {name.upper()}. \\n\"\n",
    "             f\"I am {age+1} years old. \\n\"\n",
    "             f\"How are you doing?\")\n",
    "\n",
    "print(multiline2)\n",
    "\n",
    "# multiline with tripple quotes\n",
    "multiline3 = f\"\"\"Hello. \n",
    "I am  {name.upper()}.\n",
    "I am {age+1} years old.\n",
    "How are you doing?\n",
    "\"\"\"\n",
    "print(multiline3)"
   ]
  },
  {
   "cell_type": "markdown",
   "metadata": {},
   "source": [
    "### Why f-strings\n",
    "\n",
    "1. fast\n",
    "\n",
    "expressions are evaluated at runtime rather than consttns values.\n",
    "\n",
    "### Pitfalls"
   ]
  },
  {
   "cell_type": "code",
   "execution_count": 25,
   "metadata": {},
   "outputs": [
    {
     "name": "stdout",
     "output_type": "stream",
     "text": [
      "I am Jes\n",
      "this is a {}\n",
      "this is two {{}}\n"
     ]
    }
   ],
   "source": [
    "# if you have to use quotations inside {}, make sure the one is different from the outside one\n",
    "\n",
    "print(f\"I am {me['name']}\") # this works\n",
    "# print(f\"I am {me[\"name\"]}\") # this doesn't\n",
    "\n",
    "\n",
    "# if you need to print out {}, then double it\n",
    "print(f\"this is a {{}}\")\n",
    "\n",
    "# if you need to print out two {}, then four times it\n",
    "print(f\"this is two {{{{}}}}\")\n",
    "\n",
    "# you cannot use backslaskes and comments# in the expression\n",
    "# print(f\"I am {\\jes#}\") . #won't work"
   ]
  },
  {
   "cell_type": "markdown",
   "metadata": {},
   "source": [
    "# Conclusion\n",
    "\n",
    "I find f-string pretty useful. Don't forget to start typing f to format a string!"
   ]
  }
 ],
 "metadata": {
  "kernelspec": {
   "display_name": "Python 3.7.3 64-bit",
   "language": "python",
   "name": "python37364bit2cb701d72ec644f98b51b5dd133704e6"
  },
  "language_info": {
   "codemirror_mode": {
    "name": "ipython",
    "version": 3
   },
   "file_extension": ".py",
   "mimetype": "text/x-python",
   "name": "python",
   "nbconvert_exporter": "python",
   "pygments_lexer": "ipython3",
   "version": "3.7.3"
  }
 },
 "nbformat": 4,
 "nbformat_minor": 2
}
